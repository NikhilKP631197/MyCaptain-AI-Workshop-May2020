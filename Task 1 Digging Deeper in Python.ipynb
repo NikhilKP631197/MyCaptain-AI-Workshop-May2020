{
 "cells": [
  {
   "cell_type": "markdown",
   "metadata": {},
   "source": [
    "# 1.) Accessing elements to different lists"
   ]
  },
  {
   "cell_type": "code",
   "execution_count": 10,
   "metadata": {},
   "outputs": [
    {
     "name": "stdout",
     "output_type": "stream",
     "text": [
      "1 2 3 4 5\n",
      "6 7 8 9 0\n",
      "Enter the index number for the list 1: 0\n",
      "Enter the index number for the list 2: 4\n",
      "\n",
      "The element at index 0 in list1 is 1.\n",
      "The element at index 4 in list2 is 0.\n",
      "\n",
      "Enter the index number for the list 1: 1\n",
      "Enter the index number for the list 2: 3\n",
      "\n",
      "The element at index 1 in list1 is 2.\n",
      "The element at index 3 in list2 is 9.\n",
      "\n",
      "Enter the index number for the list 1: 2\n",
      "Enter the index number for the list 2: 2\n",
      "\n",
      "The element at index 2 in list1 is 3.\n",
      "The element at index 2 in list2 is 8.\n",
      "\n",
      "Enter the index number for the list 1: 3\n",
      "Enter the index number for the list 2: 1\n",
      "\n",
      "The element at index 3 in list1 is 4.\n",
      "The element at index 1 in list2 is 7.\n",
      "\n",
      "Enter the index number for the list 1: 4\n",
      "Enter the index number for the list 2: 0\n",
      "\n",
      "The element at index 4 in list1 is 5.\n",
      "The element at index 0 in list2 is 6.\n",
      "\n",
      "Enter the index number for the list 1: -3\n",
      "Index Out Of Bound!\n"
     ]
    }
   ],
   "source": [
    "list1 = [int(num) for num in input().split()]  #Enter the first list as multiple spaced integers\n",
    "list2 = [int(num) for num in input().split()]  #Enter the second list as multiple spaced integers\n",
    "\n",
    "while(True):\n",
    "    n1 = int(input(\"Enter the index number for the list 1: \"))\n",
    "    if(n1<0)or(n1>=len(list1)):\n",
    "        print(\"Index Out Of Bound!\")\n",
    "        break;\n",
    "    n2 = int(input(\"Enter the index number for the list 2: \"))\n",
    "    if(n2<0)or(n2>=len(list2)):\n",
    "        print(\"Index Out Of Bound!\")\n",
    "        break;\n",
    "    print(\"\\nThe element at index {} in list1 is {}.\".format(n1 , list1[n1]))\n",
    "    print(\"The element at index {} in list2 is {}.\\n\".format(n2 , list2[n2]))"
   ]
  },
  {
   "cell_type": "markdown",
   "metadata": {},
   "source": [
    "# 2.) Accessing elements from tuples"
   ]
  },
  {
   "cell_type": "code",
   "execution_count": 1,
   "metadata": {},
   "outputs": [
    {
     "name": "stdout",
     "output_type": "stream",
     "text": [
      "1 2 3 4 5\n",
      "Enter the index number for the tuple: 0\n",
      "\n",
      "The element at index 0 in tup is 1.\n",
      "\n",
      "Enter the index number for the tuple: 1\n",
      "\n",
      "The element at index 1 in tup is 2.\n",
      "\n",
      "Enter the index number for the tuple: 2\n",
      "\n",
      "The element at index 2 in tup is 3.\n",
      "\n",
      "Enter the index number for the tuple: 3\n",
      "\n",
      "The element at index 3 in tup is 4.\n",
      "\n",
      "Enter the index number for the tuple: 4\n",
      "\n",
      "The element at index 4 in tup is 5.\n",
      "\n",
      "Enter the index number for the tuple: 5\n",
      "Index Out Of Bound!\n"
     ]
    }
   ],
   "source": [
    "tup = tuple([int(num) for num in input().split()])  #Enter the tuple as multiple spaced integers\n",
    "\n",
    "while(True):\n",
    "    n = int(input(\"Enter the index number for the tuple: \"))\n",
    "    if(n<0)or(n>=len(tup)):\n",
    "        print(\"Index Out Of Bound!\")\n",
    "        break;\n",
    "    print(\"\\nThe element at index {} in tup is {}.\\n\".format(n , tup[n]))"
   ]
  },
  {
   "cell_type": "markdown",
   "metadata": {},
   "source": [
    "# 3.) Deleting different dictionary elements"
   ]
  },
  {
   "cell_type": "code",
   "execution_count": 3,
   "metadata": {},
   "outputs": [
    {
     "name": "stdout",
     "output_type": "stream",
     "text": [
      "Original Dictionary:  {'Nikhil': 1, 'Anisha': 1, 'Bishal': 2, 'Nilesh': 3}\n",
      "\n",
      "Dictionary after deleting a key-value pair:  {'Nikhil': 1, 'Anisha': 1, 'Nilesh': 3}\n",
      "\n",
      "Dictionary after deleting another key-value pair:  {'Nikhil': 1, 'Anisha': 1}\n"
     ]
    }
   ],
   "source": [
    "dict1 = {\"Nikhil\":1,\"Anisha\":1,\"Bishal\":2,\"Nilesh\":3}\n",
    "\n",
    "print(\"Original Dictionary: \",dict1)\n",
    "\n",
    "del dict1[\"Bishal\"]\n",
    "\n",
    "print(\"\\nDictionary after deleting a key-value pair: \",dict1)\n",
    "\n",
    "del dict1[\"Nilesh\"]\n",
    "\n",
    "print(\"\\nDictionary after deleting another key-value pair: \",dict1)"
   ]
  }
 ],
 "metadata": {
  "kernelspec": {
   "display_name": "Python 3",
   "language": "python",
   "name": "python3"
  },
  "language_info": {
   "codemirror_mode": {
    "name": "ipython",
    "version": 3
   },
   "file_extension": ".py",
   "mimetype": "text/x-python",
   "name": "python",
   "nbconvert_exporter": "python",
   "pygments_lexer": "ipython3",
   "version": "3.7.4"
  }
 },
 "nbformat": 4,
 "nbformat_minor": 2
}
